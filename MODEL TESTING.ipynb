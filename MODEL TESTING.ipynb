{
 "cells": [
  {
   "cell_type": "code",
   "execution_count": 1,
   "id": "86c71950-5ec9-4cfd-b469-cac564a85926",
   "metadata": {},
   "outputs": [],
   "source": [
    "from joblib import dump, load\n",
    "import numpy as np\n",
    "model = load(\"Dragon.joblib\")"
   ]
  },
  {
   "cell_type": "code",
   "execution_count": 2,
   "id": "c0582fdf-99b6-4cd4-ae43-131c86813024",
   "metadata": {},
   "outputs": [
    {
     "data": {
      "text/plain": [
       "array([12.211])"
      ]
     },
     "execution_count": 2,
     "metadata": {},
     "output_type": "execute_result"
    }
   ],
   "source": [
    "features=np.array([[ 1.28770177, -0.50032012,  100.03323679, -0.27808871,  0.48925206,\n",
    "       -1.42863554,  1.02801516, -0.80217296,  3.70689143,  99.57843444,\n",
    "        0.84534281, -0.07433689,  1.75350503]])\n",
    "model.predict(features)"
   ]
  }
 ],
 "metadata": {
  "kernelspec": {
   "display_name": "Python 3 (ipykernel)",
   "language": "python",
   "name": "python3"
  },
  "language_info": {
   "codemirror_mode": {
    "name": "ipython",
    "version": 3
   },
   "file_extension": ".py",
   "mimetype": "text/x-python",
   "name": "python",
   "nbconvert_exporter": "python",
   "pygments_lexer": "ipython3",
   "version": "3.10.1"
  }
 },
 "nbformat": 4,
 "nbformat_minor": 5
}
